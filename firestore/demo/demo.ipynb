{
 "cells": [
  {
   "cell_type": "markdown",
   "id": "9af56779",
   "metadata": {},
   "source": [
    "### Instalar Libreria"
   ]
  },
  {
   "cell_type": "markdown",
   "id": "60bd8322",
   "metadata": {},
   "source": [
    "pip install google-cloud-firestore==2.16.0"
   ]
  },
  {
   "cell_type": "code",
   "execution_count": 34,
   "id": "d40b3112",
   "metadata": {},
   "outputs": [
    {
     "name": "stdout",
     "output_type": "stream",
     "text": [
      "Collecting pandas==2.2.2Note: you may need to restart the kernel to use updated packages.\n",
      "\n",
      "  Downloading pandas-2.2.2-cp312-cp312-win_amd64.whl.metadata (19 kB)\n",
      "Requirement already satisfied: numpy>=1.26.0 in c:\\users\\asus\\appdata\\local\\programs\\python\\python312\\lib\\site-packages (from pandas==2.2.2) (1.26.4)\n",
      "Requirement already satisfied: python-dateutil>=2.8.2 in c:\\users\\asus\\appdata\\local\\programs\\python\\python312\\lib\\site-packages (from pandas==2.2.2) (2.9.0.post0)\n",
      "Requirement already satisfied: pytz>=2020.1 in c:\\users\\asus\\appdata\\local\\programs\\python\\python312\\lib\\site-packages (from pandas==2.2.2) (2024.1)\n",
      "Requirement already satisfied: tzdata>=2022.7 in c:\\users\\asus\\appdata\\local\\programs\\python\\python312\\lib\\site-packages (from pandas==2.2.2) (2024.1)\n",
      "Requirement already satisfied: six>=1.5 in c:\\users\\asus\\appdata\\local\\programs\\python\\python312\\lib\\site-packages (from python-dateutil>=2.8.2->pandas==2.2.2) (1.16.0)\n",
      "Downloading pandas-2.2.2-cp312-cp312-win_amd64.whl (11.5 MB)\n",
      "   ---------------------------------------- 0.0/11.5 MB ? eta -:--:--\n",
      "   ---------------------------------------- 0.0/11.5 MB ? eta -:--:--\n",
      "   ---------------------------------------- 0.1/11.5 MB 1.0 MB/s eta 0:00:12\n",
      "   - -------------------------------------- 0.4/11.5 MB 2.4 MB/s eta 0:00:05\n",
      "   -- ------------------------------------- 0.6/11.5 MB 3.3 MB/s eta 0:00:04\n",
      "   --- ------------------------------------ 1.1/11.5 MB 4.2 MB/s eta 0:00:03\n",
      "   ----- ---------------------------------- 1.5/11.5 MB 4.6 MB/s eta 0:00:03\n",
      "   ------ --------------------------------- 1.8/11.5 MB 4.8 MB/s eta 0:00:03\n",
      "   ------- -------------------------------- 2.0/11.5 MB 5.0 MB/s eta 0:00:02\n",
      "   ------- -------------------------------- 2.3/11.5 MB 5.0 MB/s eta 0:00:02\n",
      "   --------- ------------------------------ 2.8/11.5 MB 5.3 MB/s eta 0:00:02\n",
      "   ----------- ---------------------------- 3.3/11.5 MB 5.5 MB/s eta 0:00:02\n",
      "   ------------ --------------------------- 3.7/11.5 MB 5.6 MB/s eta 0:00:02\n",
      "   -------------- ------------------------- 4.1/11.5 MB 5.7 MB/s eta 0:00:02\n",
      "   --------------- ------------------------ 4.5/11.5 MB 5.8 MB/s eta 0:00:02\n",
      "   ---------------- ----------------------- 4.8/11.5 MB 5.8 MB/s eta 0:00:02\n",
      "   ------------------ --------------------- 5.2/11.5 MB 5.9 MB/s eta 0:00:02\n",
      "   ------------------ --------------------- 5.4/11.5 MB 5.9 MB/s eta 0:00:02\n",
      "   -------------------- ------------------- 5.9/11.5 MB 6.0 MB/s eta 0:00:01\n",
      "   ---------------------- ----------------- 6.4/11.5 MB 6.1 MB/s eta 0:00:01\n",
      "   ----------------------- ---------------- 6.8/11.5 MB 6.2 MB/s eta 0:00:01\n",
      "   ------------------------ --------------- 7.1/11.5 MB 6.2 MB/s eta 0:00:01\n",
      "   ------------------------- -------------- 7.4/11.5 MB 6.2 MB/s eta 0:00:01\n",
      "   --------------------------- ------------ 7.9/11.5 MB 6.2 MB/s eta 0:00:01\n",
      "   ---------------------------- ----------- 8.2/11.5 MB 6.3 MB/s eta 0:00:01\n",
      "   ------------------------------ --------- 8.7/11.5 MB 6.3 MB/s eta 0:00:01\n",
      "   ------------------------------- -------- 9.1/11.5 MB 6.3 MB/s eta 0:00:01\n",
      "   --------------------------------- ------ 9.7/11.5 MB 6.4 MB/s eta 0:00:01\n",
      "   ----------------------------------- ---- 10.2/11.5 MB 6.4 MB/s eta 0:00:01\n",
      "   ------------------------------------ --- 10.5/11.5 MB 6.9 MB/s eta 0:00:01\n",
      "   -------------------------------------- - 11.1/11.5 MB 6.9 MB/s eta 0:00:01\n",
      "   ---------------------------------------  11.5/11.5 MB 6.8 MB/s eta 0:00:01\n",
      "   ---------------------------------------  11.5/11.5 MB 6.8 MB/s eta 0:00:01\n",
      "   ---------------------------------------- 11.5/11.5 MB 6.5 MB/s eta 0:00:00\n",
      "Installing collected packages: pandas\n",
      "  Attempting uninstall: pandas\n",
      "    Found existing installation: pandas 2.2.1\n",
      "    Uninstalling pandas-2.2.1:\n",
      "      Successfully uninstalled pandas-2.2.1\n",
      "Successfully installed pandas-2.2.2\n"
     ]
    },
    {
     "name": "stderr",
     "output_type": "stream",
     "text": [
      "  WARNING: Failed to remove contents in a temporary directory 'C:\\Users\\Asus\\AppData\\Local\\Programs\\Python\\Python312\\Lib\\site-packages\\~andas.libs'.\n",
      "  You can safely remove it manually.\n",
      "  WARNING: Failed to remove contents in a temporary directory 'C:\\Users\\Asus\\AppData\\Local\\Programs\\Python\\Python312\\Lib\\site-packages\\~andas'.\n",
      "  You can safely remove it manually.\n"
     ]
    }
   ],
   "source": [
    "pip install pandas==2.2.2"
   ]
  },
  {
   "cell_type": "code",
   "execution_count": null,
   "id": "1dd5fbf0",
   "metadata": {},
   "outputs": [],
   "source": [
    "pip install pandas==2.2.2"
   ]
  },
  {
   "cell_type": "markdown",
   "id": "786336ed",
   "metadata": {},
   "source": [
    "### Importar Librerias"
   ]
  },
  {
   "cell_type": "code",
   "execution_count": 61,
   "id": "1d04c4fb-08e9-4edf-9028-1e588933e0e3",
   "metadata": {
    "tags": []
   },
   "outputs": [],
   "source": [
    "from google.cloud import firestore \n",
    "## librería para usar filtros\n",
    "from google.cloud.firestore_v1.base_query import FieldFilter , Or\n",
    "import pandas as pd"
   ]
  },
  {
   "cell_type": "markdown",
   "id": "cb4e6db9",
   "metadata": {},
   "source": [
    "### Insertar Documentos"
   ]
  },
  {
   "cell_type": "code",
   "execution_count": 6,
   "id": "a276271e-dc3f-487f-a4e2-419c685ed4cb",
   "metadata": {
    "tags": []
   },
   "outputs": [
    {
     "data": {
      "text/plain": [
       "(DatetimeWithNanoseconds(2024, 4, 19, 5, 8, 42, 488456, tzinfo=datetime.timezone.utc),\n",
       " <google.cloud.firestore_v1.document.DocumentReference at 0x270c3b4d5b0>)"
      ]
     },
     "execution_count": 6,
     "metadata": {},
     "output_type": "execute_result"
    }
   ],
   "source": [
    "db = firestore.Client()\n",
    "doc_ref = db.collection(\"clientes\")\n",
    "doc_ref.add({\"Nombres\": \"Juan\", \"apellidos\": \"Arteaga\", \"genero\":\"M\",\"saldo\": 2000 })\n",
    "doc_ref.add({\"Nombres\": \"Carlos\", \"apellidos\": \"Perez\", \"genero\":\"M\",\"saldo\": 2300 })\n",
    "doc_ref.add({\"Nombres\": \"Rosa\", \"apellidos\": \"Flores\", \"genero\":\"F\",\"saldo\": 3200 })\n",
    "doc_ref.add({\"Nombres\": \"Maria\", \"apellidos\": \"Mora\", \"genero\":\"F\",\"saldo\": 1800 })"
   ]
  },
  {
   "cell_type": "markdown",
   "id": "39e017d8",
   "metadata": {},
   "source": [
    "### Insertar documento con otro estructura"
   ]
  },
  {
   "cell_type": "code",
   "execution_count": 11,
   "id": "52ccafe0",
   "metadata": {},
   "outputs": [
    {
     "data": {
      "text/plain": [
       "(DatetimeWithNanoseconds(2024, 4, 19, 5, 26, 10, 744934, tzinfo=datetime.timezone.utc),\n",
       " <google.cloud.firestore_v1.document.DocumentReference at 0x270c3177200>)"
      ]
     },
     "execution_count": 11,
     "metadata": {},
     "output_type": "execute_result"
    }
   ],
   "source": [
    "doc_ref = db.collection(\"clientes\")\n",
    "doc_ref.add({\"Nombres\": \"Jose\", \"apellidos\": \"Diaz\", \"genero\":\"M\",\"saldo\": 2000 ,\"anio_nac\":1989})\n",
    "doc_ref.add({\"Nombres\": \"Jose\", \"apellidos\": \"Gallardo\", \"genero\":\"M\",\"saldo\": 2000 ,\"anio_nac\":1989})\n",
    "doc_ref.add({\"Nombres\": \"Felix\", \"apellidos\": \"Trebejo\", \"genero\":\"M\",\"saldo\": 2000 ,\"anio_nac\":1980})\n",
    "doc_ref.add({\"Nombres\": \"Soledad\", \"apellidos\": \"Gonzales\", \"genero\":\"F\",\"saldo\": 2000 ,\"anio_nac\":1999})\n",
    "doc_ref.add({\"Nombres\": \"Elsa\", \"apellidos\": \"Romero\", \"genero\":\"F\",\"saldo\": 2050 ,\"anio_nac\":1999})"
   ]
  },
  {
   "cell_type": "markdown",
   "id": "c0ee3caa",
   "metadata": {},
   "source": [
    "### Actualizar Documento"
   ]
  },
  {
   "cell_type": "code",
   "execution_count": 8,
   "id": "0e3a60ea-2fec-4f25-a57b-6da695c69d0d",
   "metadata": {},
   "outputs": [
    {
     "data": {
      "text/plain": [
       "update_time {\n",
       "  seconds: 1713503548\n",
       "  nanos: 963456000\n",
       "}"
      ]
     },
     "execution_count": 8,
     "metadata": {},
     "output_type": "execute_result"
    }
   ],
   "source": [
    "db = firestore.Client()\n",
    "doc_ref = db.collection(\"clientes\").document(\"YmChTMuGKDxpmeXW0tt7\")\n",
    "doc_ref.set({\"Nombres\": \"Juan\", \"apellidos\": \"Arteaga\", \"genero\":\"M\",\"saldo\": 2200 })"
   ]
  },
  {
   "cell_type": "markdown",
   "id": "1eaa02f3",
   "metadata": {},
   "source": [
    "### Eliminar un Documento"
   ]
  },
  {
   "cell_type": "code",
   "execution_count": 10,
   "id": "6cf12966",
   "metadata": {},
   "outputs": [
    {
     "data": {
      "text/plain": [
       "DatetimeWithNanoseconds(2024, 4, 19, 5, 19, 17, 449876, tzinfo=datetime.timezone.utc)"
      ]
     },
     "execution_count": 10,
     "metadata": {},
     "output_type": "execute_result"
    }
   ],
   "source": [
    "db.collection(\"clientes\").document(\"P63RNCoJbpgxEKvLplzQ\").delete()"
   ]
  },
  {
   "cell_type": "markdown",
   "id": "4c9ecc03",
   "metadata": {},
   "source": [
    "### Eliminar Documentos con un filtro"
   ]
  },
  {
   "cell_type": "code",
   "execution_count": 12,
   "id": "cb0edb66",
   "metadata": {},
   "outputs": [
    {
     "name": "stderr",
     "output_type": "stream",
     "text": [
      "c:\\Users\\Asus\\AppData\\Local\\Programs\\Python\\Python312\\Lib\\site-packages\\google\\cloud\\firestore_v1\\base_collection.py:302: UserWarning: Detected filter using positional arguments. Prefer using the 'filter' keyword argument instead.\n",
      "  return query.where(field_path, op_string, value)\n"
     ]
    }
   ],
   "source": [
    "docs_ref = db.collection('clientes').where('anio_nac', '==', 1989).stream()\n",
    "\n",
    "# Itera sobre los documentos y elimínalos\n",
    "for doc in docs_ref:\n",
    "    doc.reference.delete()"
   ]
  },
  {
   "cell_type": "markdown",
   "id": "7d74493d",
   "metadata": {},
   "source": [
    "### Leer documento"
   ]
  },
  {
   "cell_type": "code",
   "execution_count": 59,
   "id": "14e99a95",
   "metadata": {},
   "outputs": [
    {
     "name": "stdout",
     "output_type": "stream",
     "text": [
      "{'saldo': 2000, 'Nombres': 'Soledad', 'anio_nac': 1999, 'genero': 'F', 'apellidos': 'Gonzales'}\n",
      "{'saldo': 2200, 'Nombres': 'Juan', 'genero': 'M', 'apellidos': 'Arteaga'}\n",
      "{'saldo': 2050, 'Nombres': 'Elsa', 'anio_nac': 1999, 'genero': 'F', 'apellidos': 'Romero'}\n",
      "{'saldo': 1800, 'Nombres': 'Maria', 'genero': 'F', 'apellidos': 'Mora'}\n",
      "{'saldo': 2000, 'Nombres': 'Felix', 'anio_nac': 1980, 'genero': 'M', 'apellidos': 'Trebejo'}\n",
      "{'saldo': 2300, 'Nombres': 'Carlos', 'genero': 'M', 'apellidos': 'Perez'}\n"
     ]
    }
   ],
   "source": [
    "doc_ref = db.collection(\"clientes\")\n",
    "docs =doc_ref.stream()\n",
    "\n",
    "for doc in docs:\n",
    "    print(doc.to_dict())"
   ]
  },
  {
   "cell_type": "markdown",
   "id": "481d3479",
   "metadata": {},
   "source": [
    "### Filtros columnas"
   ]
  },
  {
   "cell_type": "code",
   "execution_count": 58,
   "id": "6ba0059f",
   "metadata": {},
   "outputs": [
    {
     "name": "stdout",
     "output_type": "stream",
     "text": [
      "{'saldo': 2000, 'Nombres': 'Soledad', 'anio_nac': 1999, 'genero': 'F', 'apellidos': 'Gonzales'}\n",
      "{'saldo': 2050, 'Nombres': 'Elsa', 'anio_nac': 1999, 'genero': 'F', 'apellidos': 'Romero'}\n"
     ]
    }
   ],
   "source": [
    " \n",
    "doc_ref = db.collection(\"clientes\")\n",
    "docs =doc_ref.where(filter=FieldFilter(\"anio_nac\", \"==\", 1999)).stream()\n",
    "\n",
    "for doc in docs:\n",
    "    print(doc.to_dict())"
   ]
  },
  {
   "cell_type": "markdown",
   "id": "8d40614f",
   "metadata": {},
   "source": [
    "### Filtro OR"
   ]
  },
  {
   "cell_type": "code",
   "execution_count": 62,
   "id": "94916e86",
   "metadata": {},
   "outputs": [
    {
     "name": "stdout",
     "output_type": "stream",
     "text": [
      "{'saldo': 2000, 'Nombres': 'Soledad', 'anio_nac': 1999, 'genero': 'F', 'apellidos': 'Gonzales'}\n",
      "{'saldo': 2050, 'Nombres': 'Elsa', 'anio_nac': 1999, 'genero': 'F', 'apellidos': 'Romero'}\n",
      "{'saldo': 2000, 'Nombres': 'Felix', 'anio_nac': 1980, 'genero': 'M', 'apellidos': 'Trebejo'}\n"
     ]
    }
   ],
   "source": [
    "doc_ref = db.collection(\"clientes\")\n",
    "\n",
    "### crear los filtros\n",
    "filter_1 = FieldFilter(\"anio_nac\", \"==\", 1999)\n",
    "filter_2 = FieldFilter(\"anio_nac\", \"==\", 1980)\n",
    "\n",
    "# Crear una varible para unir los filtros\n",
    "or_filter = Or(filters=[filter_1, filter_2])\n",
    "\n",
    "docs =doc_ref.where(filter=or_filter).stream()\n",
    "\n",
    "for doc in docs:\n",
    "    print(doc.to_dict())"
   ]
  },
  {
   "cell_type": "code",
   "execution_count": null,
   "id": "a3748a9d",
   "metadata": {},
   "outputs": [],
   "source": [
    "doc_ref = db.collection(\"clientes\")\n",
    "docs =doc_ref.stream()\n",
    "ldocs = list(map(lambda x: x.to_dict(), docs))\n",
    "df=pd.DataFrame((ldocs))\n",
    "df.head()"
   ]
  }
 ],
 "metadata": {
  "kernelspec": {
   "display_name": "Python 3 (ipykernel)",
   "language": "python",
   "name": "python3"
  },
  "language_info": {
   "codemirror_mode": {
    "name": "ipython",
    "version": 3
   },
   "file_extension": ".py",
   "mimetype": "text/x-python",
   "name": "python",
   "nbconvert_exporter": "python",
   "pygments_lexer": "ipython3",
   "version": "3.12.2"
  }
 },
 "nbformat": 4,
 "nbformat_minor": 5
}
