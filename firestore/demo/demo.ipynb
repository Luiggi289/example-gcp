{
 "cells": [
  {
   "cell_type": "markdown",
   "id": "9af56779",
   "metadata": {},
   "source": [
    "### Instalar Libreria"
   ]
  },
  {
   "cell_type": "markdown",
   "id": "60bd8322",
   "metadata": {},
   "source": [
    "pip install google-cloud-firestore==2.16.0"
   ]
  },
  {
   "cell_type": "code",
   "execution_count": 34,
   "id": "d40b3112",
   "metadata": {},
   "outputs": [
    {
     "name": "stdout",
     "output_type": "stream",
     "text": [
      "Collecting pandas==2.2.2Note: you may need to restart the kernel to use updated packages.\n",
      "\n",
      "  Downloading pandas-2.2.2-cp312-cp312-win_amd64.whl.metadata (19 kB)\n",
      "Requirement already satisfied: numpy>=1.26.0 in c:\\users\\asus\\appdata\\local\\programs\\python\\python312\\lib\\site-packages (from pandas==2.2.2) (1.26.4)\n",
      "Requirement already satisfied: python-dateutil>=2.8.2 in c:\\users\\asus\\appdata\\local\\programs\\python\\python312\\lib\\site-packages (from pandas==2.2.2) (2.9.0.post0)\n",
      "Requirement already satisfied: pytz>=2020.1 in c:\\users\\asus\\appdata\\local\\programs\\python\\python312\\lib\\site-packages (from pandas==2.2.2) (2024.1)\n",
      "Requirement already satisfied: tzdata>=2022.7 in c:\\users\\asus\\appdata\\local\\programs\\python\\python312\\lib\\site-packages (from pandas==2.2.2) (2024.1)\n",
      "Requirement already satisfied: six>=1.5 in c:\\users\\asus\\appdata\\local\\programs\\python\\python312\\lib\\site-packages (from python-dateutil>=2.8.2->pandas==2.2.2) (1.16.0)\n",
      "Downloading pandas-2.2.2-cp312-cp312-win_amd64.whl (11.5 MB)\n",
      "   ---------------------------------------- 0.0/11.5 MB ? eta -:--:--\n",
      "   ---------------------------------------- 0.0/11.5 MB ? eta -:--:--\n",
      "   ---------------------------------------- 0.1/11.5 MB 1.0 MB/s eta 0:00:12\n",
      "   - -------------------------------------- 0.4/11.5 MB 2.4 MB/s eta 0:00:05\n",
      "   -- ------------------------------------- 0.6/11.5 MB 3.3 MB/s eta 0:00:04\n",
      "   --- ------------------------------------ 1.1/11.5 MB 4.2 MB/s eta 0:00:03\n",
      "   ----- ---------------------------------- 1.5/11.5 MB 4.6 MB/s eta 0:00:03\n",
      "   ------ --------------------------------- 1.8/11.5 MB 4.8 MB/s eta 0:00:03\n",
      "   ------- -------------------------------- 2.0/11.5 MB 5.0 MB/s eta 0:00:02\n",
      "   ------- -------------------------------- 2.3/11.5 MB 5.0 MB/s eta 0:00:02\n",
      "   --------- ------------------------------ 2.8/11.5 MB 5.3 MB/s eta 0:00:02\n",
      "   ----------- ---------------------------- 3.3/11.5 MB 5.5 MB/s eta 0:00:02\n",
      "   ------------ --------------------------- 3.7/11.5 MB 5.6 MB/s eta 0:00:02\n",
      "   -------------- ------------------------- 4.1/11.5 MB 5.7 MB/s eta 0:00:02\n",
      "   --------------- ------------------------ 4.5/11.5 MB 5.8 MB/s eta 0:00:02\n",
      "   ---------------- ----------------------- 4.8/11.5 MB 5.8 MB/s eta 0:00:02\n",
      "   ------------------ --------------------- 5.2/11.5 MB 5.9 MB/s eta 0:00:02\n",
      "   ------------------ --------------------- 5.4/11.5 MB 5.9 MB/s eta 0:00:02\n",
      "   -------------------- ------------------- 5.9/11.5 MB 6.0 MB/s eta 0:00:01\n",
      "   ---------------------- ----------------- 6.4/11.5 MB 6.1 MB/s eta 0:00:01\n",
      "   ----------------------- ---------------- 6.8/11.5 MB 6.2 MB/s eta 0:00:01\n",
      "   ------------------------ --------------- 7.1/11.5 MB 6.2 MB/s eta 0:00:01\n",
      "   ------------------------- -------------- 7.4/11.5 MB 6.2 MB/s eta 0:00:01\n",
      "   --------------------------- ------------ 7.9/11.5 MB 6.2 MB/s eta 0:00:01\n",
      "   ---------------------------- ----------- 8.2/11.5 MB 6.3 MB/s eta 0:00:01\n",
      "   ------------------------------ --------- 8.7/11.5 MB 6.3 MB/s eta 0:00:01\n",
      "   ------------------------------- -------- 9.1/11.5 MB 6.3 MB/s eta 0:00:01\n",
      "   --------------------------------- ------ 9.7/11.5 MB 6.4 MB/s eta 0:00:01\n",
      "   ----------------------------------- ---- 10.2/11.5 MB 6.4 MB/s eta 0:00:01\n",
      "   ------------------------------------ --- 10.5/11.5 MB 6.9 MB/s eta 0:00:01\n",
      "   -------------------------------------- - 11.1/11.5 MB 6.9 MB/s eta 0:00:01\n",
      "   ---------------------------------------  11.5/11.5 MB 6.8 MB/s eta 0:00:01\n",
      "   ---------------------------------------  11.5/11.5 MB 6.8 MB/s eta 0:00:01\n",
      "   ---------------------------------------- 11.5/11.5 MB 6.5 MB/s eta 0:00:00\n",
      "Installing collected packages: pandas\n",
      "  Attempting uninstall: pandas\n",
      "    Found existing installation: pandas 2.2.1\n",
      "    Uninstalling pandas-2.2.1:\n",
      "      Successfully uninstalled pandas-2.2.1\n",
      "Successfully installed pandas-2.2.2\n"
     ]
    },
    {
     "name": "stderr",
     "output_type": "stream",
     "text": [
      "  WARNING: Failed to remove contents in a temporary directory 'C:\\Users\\Asus\\AppData\\Local\\Programs\\Python\\Python312\\Lib\\site-packages\\~andas.libs'.\n",
      "  You can safely remove it manually.\n",
      "  WARNING: Failed to remove contents in a temporary directory 'C:\\Users\\Asus\\AppData\\Local\\Programs\\Python\\Python312\\Lib\\site-packages\\~andas'.\n",
      "  You can safely remove it manually.\n"
     ]
    }
   ],
   "source": [
    "pip install pandas==2.2.2"
   ]
  },
  {
   "cell_type": "code",
   "execution_count": 24,
   "id": "f98cc839",
   "metadata": {},
   "outputs": [
    {
     "name": "stdout",
     "output_type": "stream",
     "text": [
      "Collecting google-cloud-storage==2.16.0\n",
      "  Using cached google_cloud_storage-2.16.0-py2.py3-none-any.whl.metadata (6.1 kB)\n",
      "Requirement already satisfied: google-auth<3.0dev,>=2.26.1 in c:\\users\\asus\\appdata\\local\\programs\\python\\python312\\lib\\site-packages (from google-cloud-storage==2.16.0) (2.29.0)\n",
      "Requirement already satisfied: google-api-core<3.0.0dev,>=2.15.0 in c:\\users\\asus\\appdata\\local\\programs\\python\\python312\\lib\\site-packages (from google-cloud-storage==2.16.0) (2.18.0)\n",
      "Requirement already satisfied: google-cloud-core<3.0dev,>=2.3.0 in c:\\users\\asus\\appdata\\local\\programs\\python\\python312\\lib\\site-packages (from google-cloud-storage==2.16.0) (2.4.1)\n",
      "Collecting google-resumable-media>=2.6.0 (from google-cloud-storage==2.16.0)\n",
      "  Using cached google_resumable_media-2.7.0-py2.py3-none-any.whl.metadata (2.2 kB)\n",
      "Requirement already satisfied: requests<3.0.0dev,>=2.18.0 in c:\\users\\asus\\appdata\\local\\programs\\python\\python312\\lib\\site-packages (from google-cloud-storage==2.16.0) (2.31.0)\n",
      "Collecting google-crc32c<2.0dev,>=1.0 (from google-cloud-storage==2.16.0)\n",
      "  Using cached google_crc32c-1.5.0-py3-none-any.whl\n",
      "Requirement already satisfied: googleapis-common-protos<2.0.dev0,>=1.56.2 in c:\\users\\asus\\appdata\\local\\programs\\python\\python312\\lib\\site-packages (from google-api-core<3.0.0dev,>=2.15.0->google-cloud-storage==2.16.0) (1.63.0)\n",
      "Requirement already satisfied: protobuf!=3.20.0,!=3.20.1,!=4.21.0,!=4.21.1,!=4.21.2,!=4.21.3,!=4.21.4,!=4.21.5,<5.0.0.dev0,>=3.19.5 in c:\\users\\asus\\appdata\\local\\programs\\python\\python312\\lib\\site-packages (from google-api-core<3.0.0dev,>=2.15.0->google-cloud-storage==2.16.0) (4.25.3)\n",
      "Requirement already satisfied: proto-plus<2.0.0dev,>=1.22.3 in c:\\users\\asus\\appdata\\local\\programs\\python\\python312\\lib\\site-packages (from google-api-core<3.0.0dev,>=2.15.0->google-cloud-storage==2.16.0) (1.23.0)\n",
      "Requirement already satisfied: cachetools<6.0,>=2.0.0 in c:\\users\\asus\\appdata\\local\\programs\\python\\python312\\lib\\site-packages (from google-auth<3.0dev,>=2.26.1->google-cloud-storage==2.16.0) (5.3.3)\n",
      "Requirement already satisfied: pyasn1-modules>=0.2.1 in c:\\users\\asus\\appdata\\local\\programs\\python\\python312\\lib\\site-packages (from google-auth<3.0dev,>=2.26.1->google-cloud-storage==2.16.0) (0.4.0)\n",
      "Requirement already satisfied: rsa<5,>=3.1.4 in c:\\users\\asus\\appdata\\local\\programs\\python\\python312\\lib\\site-packages (from google-auth<3.0dev,>=2.26.1->google-cloud-storage==2.16.0) (4.9)\n",
      "Requirement already satisfied: charset-normalizer<4,>=2 in c:\\users\\asus\\appdata\\local\\programs\\python\\python312\\lib\\site-packages (from requests<3.0.0dev,>=2.18.0->google-cloud-storage==2.16.0) (3.3.2)\n",
      "Requirement already satisfied: idna<4,>=2.5 in c:\\users\\asus\\appdata\\local\\programs\\python\\python312\\lib\\site-packages (from requests<3.0.0dev,>=2.18.0->google-cloud-storage==2.16.0) (3.6)\n",
      "Requirement already satisfied: urllib3<3,>=1.21.1 in c:\\users\\asus\\appdata\\local\\programs\\python\\python312\\lib\\site-packages (from requests<3.0.0dev,>=2.18.0->google-cloud-storage==2.16.0) (2.2.1)\n",
      "Requirement already satisfied: certifi>=2017.4.17 in c:\\users\\asus\\appdata\\local\\programs\\python\\python312\\lib\\site-packages (from requests<3.0.0dev,>=2.18.0->google-cloud-storage==2.16.0) (2024.2.2)\n",
      "Requirement already satisfied: pyasn1<0.7.0,>=0.4.6 in c:\\users\\asus\\appdata\\local\\programs\\python\\python312\\lib\\site-packages (from pyasn1-modules>=0.2.1->google-auth<3.0dev,>=2.26.1->google-cloud-storage==2.16.0) (0.6.0)\n",
      "Using cached google_cloud_storage-2.16.0-py2.py3-none-any.whl (125 kB)\n",
      "Using cached google_resumable_media-2.7.0-py2.py3-none-any.whl (80 kB)\n",
      "Installing collected packages: google-crc32c, google-resumable-media, google-cloud-storage\n",
      "Successfully installed google-cloud-storage-2.16.0 google-crc32c-1.5.0 google-resumable-media-2.7.0\n",
      "Note: you may need to restart the kernel to use updated packages.\n"
     ]
    }
   ],
   "source": [
    "pip install google-cloud-storage==2.16.0\n"
   ]
  },
  {
   "cell_type": "code",
   "execution_count": null,
   "id": "1dd5fbf0",
   "metadata": {},
   "outputs": [],
   "source": [
    "pip install pandas==2.2.2"
   ]
  },
  {
   "cell_type": "markdown",
   "id": "786336ed",
   "metadata": {},
   "source": [
    "### Importar Librerias"
   ]
  },
  {
   "cell_type": "code",
   "execution_count": 4,
   "id": "1d04c4fb-08e9-4edf-9028-1e588933e0e3",
   "metadata": {
    "tags": []
   },
   "outputs": [],
   "source": [
    "from google.cloud import firestore \n",
    "## librería para usar filtros\n",
    "from google.cloud.firestore_v1.base_query import FieldFilter , Or\n",
    "from google.cloud.firestore_v1 import aggregation\n",
    "import pandas as pd"
   ]
  },
  {
   "cell_type": "markdown",
   "id": "ddd9a4eb",
   "metadata": {},
   "source": [
    "### Crear Conexión"
   ]
  },
  {
   "cell_type": "code",
   "execution_count": 5,
   "id": "7aa7bd44",
   "metadata": {},
   "outputs": [],
   "source": [
    "db = firestore.Client()"
   ]
  },
  {
   "cell_type": "markdown",
   "id": "cb4e6db9",
   "metadata": {},
   "source": [
    "### Insertar Documentos"
   ]
  },
  {
   "cell_type": "code",
   "execution_count": 6,
   "id": "a276271e-dc3f-487f-a4e2-419c685ed4cb",
   "metadata": {
    "tags": []
   },
   "outputs": [
    {
     "data": {
      "text/plain": [
       "(DatetimeWithNanoseconds(2024, 4, 19, 21, 39, 32, 764842, tzinfo=datetime.timezone.utc),\n",
       " <google.cloud.firestore_v1.document.DocumentReference at 0x25b590eebd0>)"
      ]
     },
     "execution_count": 6,
     "metadata": {},
     "output_type": "execute_result"
    }
   ],
   "source": [
    "doc_ref = db.collection(\"clientes\")\n",
    "doc_ref.add({\"Nombres\": \"Juan\", \"apellidos\": \"Arteaga\", \"genero\":\"M\",\"saldo\": 2000 })\n",
    "doc_ref.add({\"Nombres\": \"Carlos\", \"apellidos\": \"Perez\", \"genero\":\"M\",\"saldo\": 2300 })\n",
    "doc_ref.add({\"Nombres\": \"Rosa\", \"apellidos\": \"Flores\", \"genero\":\"F\",\"saldo\": 3200 })\n",
    "doc_ref.add({\"Nombres\": \"Maria\", \"apellidos\": \"Mora\", \"genero\":\"F\",\"saldo\": 1800 })"
   ]
  },
  {
   "cell_type": "markdown",
   "id": "39e017d8",
   "metadata": {},
   "source": [
    "### Insertar documento con otro estructura"
   ]
  },
  {
   "cell_type": "code",
   "execution_count": 4,
   "id": "52ccafe0",
   "metadata": {},
   "outputs": [
    {
     "data": {
      "text/plain": [
       "(DatetimeWithNanoseconds(2024, 4, 19, 20, 36, 10, 654311, tzinfo=datetime.timezone.utc),\n",
       " <google.cloud.firestore_v1.document.DocumentReference at 0x1b71992fce0>)"
      ]
     },
     "execution_count": 4,
     "metadata": {},
     "output_type": "execute_result"
    }
   ],
   "source": [
    "doc_ref = db.collection(\"clientes\")\n",
    "doc_ref.add({\"Nombres\": \"Jose\", \"apellidos\": \"Diaz\", \"genero\":\"M\",\"saldo\": 2000 ,\"anio_nac\":1989})\n",
    "doc_ref.add({\"Nombres\": \"Jose\", \"apellidos\": \"Gallardo\", \"genero\":\"M\",\"saldo\": 2000 ,\"anio_nac\":1989})\n",
    "doc_ref.add({\"Nombres\": \"Felix\", \"apellidos\": \"Trebejo\", \"genero\":\"M\",\"saldo\": 2000 ,\"anio_nac\":1980})\n",
    "doc_ref.add({\"Nombres\": \"Soledad\", \"apellidos\": \"Gonzales\", \"genero\":\"F\",\"saldo\": 2000 ,\"anio_nac\":1999})\n",
    "doc_ref.add({\"Nombres\": \"Elsa\", \"apellidos\": \"Romero\", \"genero\":\"F\",\"saldo\": 2050 ,\"anio_nac\":1999})"
   ]
  },
  {
   "cell_type": "markdown",
   "id": "c0ee3caa",
   "metadata": {},
   "source": [
    "### Actualizar Documento"
   ]
  },
  {
   "cell_type": "code",
   "execution_count": 7,
   "id": "0e3a60ea-2fec-4f25-a57b-6da695c69d0d",
   "metadata": {},
   "outputs": [
    {
     "data": {
      "text/plain": [
       "update_time {\n",
       "  seconds: 1713503548\n",
       "  nanos: 963456000\n",
       "}"
      ]
     },
     "execution_count": 7,
     "metadata": {},
     "output_type": "execute_result"
    }
   ],
   "source": [
    "doc_ref = db.collection(\"clientes\").document(\"YmChTMuGKDxpmeXW0tt7\")\n",
    "doc_ref.set({\"Nombres\": \"Juan\", \"apellidos\": \"Arteaga\", \"genero\":\"M\",\"saldo\": 2200 })"
   ]
  },
  {
   "cell_type": "markdown",
   "id": "1eaa02f3",
   "metadata": {},
   "source": [
    "### Eliminar un Documento"
   ]
  },
  {
   "cell_type": "code",
   "execution_count": 8,
   "id": "6cf12966",
   "metadata": {},
   "outputs": [
    {
     "data": {
      "text/plain": [
       "DatetimeWithNanoseconds(2024, 4, 19, 21, 39, 57, 841493, tzinfo=datetime.timezone.utc)"
      ]
     },
     "execution_count": 8,
     "metadata": {},
     "output_type": "execute_result"
    }
   ],
   "source": [
    "db.collection(\"clientes\").document(\"P63RNCoJbpgxEKvLplzQ\").delete()"
   ]
  },
  {
   "cell_type": "markdown",
   "id": "4c9ecc03",
   "metadata": {},
   "source": [
    "### Eliminar Documentos con un filtro"
   ]
  },
  {
   "cell_type": "code",
   "execution_count": 7,
   "id": "cb0edb66",
   "metadata": {},
   "outputs": [
    {
     "name": "stderr",
     "output_type": "stream",
     "text": [
      "c:\\Users\\Asus\\AppData\\Local\\Programs\\Python\\Python312\\Lib\\site-packages\\google\\cloud\\firestore_v1\\base_collection.py:302: UserWarning: Detected filter using positional arguments. Prefer using the 'filter' keyword argument instead.\n",
      "  return query.where(field_path, op_string, value)\n"
     ]
    }
   ],
   "source": [
    "docs_ref = db.collection('clientes').where('anio_nac', '==', 1989).stream()\n",
    "\n",
    "# Itera sobre los documentos y elimínalos\n",
    "for doc in docs_ref:\n",
    "    doc.reference.delete()"
   ]
  },
  {
   "cell_type": "markdown",
   "id": "7d74493d",
   "metadata": {},
   "source": [
    "### Leer documento"
   ]
  },
  {
   "cell_type": "code",
   "execution_count": 8,
   "id": "14e99a95",
   "metadata": {},
   "outputs": [
    {
     "name": "stdout",
     "output_type": "stream",
     "text": [
      "{'saldo': 2050, 'Nombres': 'Elsa', 'anio_nac': 1999, 'genero': 'F', 'apellidos': 'Romero'}\n",
      "{'saldo': 2000, 'Nombres': 'Juan', 'genero': 'M', 'apellidos': 'Arteaga'}\n",
      "{'saldo': 2300, 'Nombres': 'Carlos', 'genero': 'M', 'apellidos': 'Perez'}\n",
      "{'saldo': 3200, 'Nombres': 'Rosa', 'genero': 'F', 'apellidos': 'Flores'}\n",
      "{'saldo': 2000, 'Nombres': 'Soledad', 'anio_nac': 1999, 'genero': 'F', 'apellidos': 'Gonzales'}\n",
      "{'saldo': 2000, 'Nombres': 'Felix', 'anio_nac': 1980, 'genero': 'M', 'apellidos': 'Trebejo'}\n",
      "{'saldo': 2200, 'Nombres': 'Juan', 'genero': 'M', 'apellidos': 'Arteaga'}\n",
      "{'saldo': 2050, 'Nombres': 'Elsa', 'anio_nac': 1999, 'genero': 'F', 'apellidos': 'Romero'}\n",
      "{'saldo': 1800, 'Nombres': 'Maria', 'genero': 'F', 'apellidos': 'Mora'}\n",
      "{'saldo': 2000, 'Nombres': 'Soledad', 'anio_nac': 1999, 'genero': 'F', 'apellidos': 'Gonzales'}\n",
      "{'saldo': 2000, 'Nombres': 'Felix', 'anio_nac': 1980, 'genero': 'M', 'apellidos': 'Trebejo'}\n",
      "{'saldo': 2300, 'Nombres': 'Carlos', 'genero': 'M', 'apellidos': 'Perez'}\n",
      "{'saldo': 1800, 'Nombres': 'Maria', 'genero': 'F', 'apellidos': 'Mora'}\n"
     ]
    }
   ],
   "source": [
    "doc_ref = db.collection(\"clientes\")\n",
    "docs =doc_ref.stream()\n",
    "\n",
    "for doc in docs:\n",
    "    print(doc.to_dict())"
   ]
  },
  {
   "cell_type": "markdown",
   "id": "f811e903",
   "metadata": {},
   "source": [
    "### Ordenar"
   ]
  },
  {
   "cell_type": "code",
   "execution_count": 36,
   "id": "fc337bdb",
   "metadata": {},
   "outputs": [
    {
     "name": "stdout",
     "output_type": "stream",
     "text": [
      "{'saldo': 2000, 'Nombres': 'Soledad', 'anio_nac': 1999, 'genero': 'F', 'apellidos': 'Gonzales'}\n",
      "{'saldo': 2000, 'Nombres': 'Soledad', 'anio_nac': 1999, 'genero': 'F', 'apellidos': 'Gonzales'}\n",
      "{'saldo': 3200, 'Nombres': 'Rosa', 'genero': 'F', 'apellidos': 'Flores'}\n",
      "{'saldo': 1800, 'Nombres': 'Maria', 'genero': 'F', 'apellidos': 'Mora'}\n",
      "{'saldo': 1800, 'Nombres': 'Maria', 'genero': 'F', 'apellidos': 'Mora'}\n",
      "{'saldo': 2200, 'Nombres': 'Juan', 'genero': 'M', 'apellidos': 'Arteaga'}\n",
      "{'saldo': 2000, 'Nombres': 'Juan', 'genero': 'M', 'apellidos': 'Arteaga'}\n",
      "{'saldo': 2000, 'Nombres': 'Felix', 'anio_nac': 1980, 'genero': 'M', 'apellidos': 'Trebejo'}\n",
      "{'saldo': 2000, 'Nombres': 'Felix', 'anio_nac': 1980, 'genero': 'M', 'apellidos': 'Trebejo'}\n",
      "{'saldo': 2050, 'Nombres': 'Elsa', 'anio_nac': 1999, 'genero': 'F', 'apellidos': 'Romero'}\n",
      "{'saldo': 2050, 'Nombres': 'Elsa', 'anio_nac': 1999, 'genero': 'F', 'apellidos': 'Romero'}\n",
      "{'saldo': 2300, 'Nombres': 'Carlos', 'genero': 'M', 'apellidos': 'Perez'}\n",
      "{'saldo': 2300, 'Nombres': 'Carlos', 'genero': 'M', 'apellidos': 'Perez'}\n"
     ]
    }
   ],
   "source": [
    "doc_ref = db.collection(\"clientes\")\n",
    "docs =doc_ref.order_by(\n",
    "        \"Nombres\", direction=firestore.Query.DESCENDING\n",
    "    ).stream()\n",
    "\n",
    "for doc in docs:\n",
    "    print(doc.to_dict())"
   ]
  },
  {
   "cell_type": "markdown",
   "id": "481d3479",
   "metadata": {},
   "source": [
    "### Filtros columnas"
   ]
  },
  {
   "cell_type": "code",
   "execution_count": 9,
   "id": "6ba0059f",
   "metadata": {},
   "outputs": [
    {
     "name": "stdout",
     "output_type": "stream",
     "text": [
      "{'saldo': 2050, 'Nombres': 'Elsa', 'anio_nac': 1999, 'genero': 'F', 'apellidos': 'Romero'}\n",
      "{'saldo': 2000, 'Nombres': 'Soledad', 'anio_nac': 1999, 'genero': 'F', 'apellidos': 'Gonzales'}\n",
      "{'saldo': 2050, 'Nombres': 'Elsa', 'anio_nac': 1999, 'genero': 'F', 'apellidos': 'Romero'}\n",
      "{'saldo': 2000, 'Nombres': 'Soledad', 'anio_nac': 1999, 'genero': 'F', 'apellidos': 'Gonzales'}\n"
     ]
    }
   ],
   "source": [
    " \n",
    "doc_ref = db.collection(\"clientes\")\n",
    "docs =doc_ref.where(filter=FieldFilter(\"anio_nac\", \"==\", 1999)).stream()\n",
    "\n",
    "for doc in docs:\n",
    "    print(doc.to_dict())"
   ]
  },
  {
   "cell_type": "markdown",
   "id": "e972c8e2",
   "metadata": {},
   "source": [
    "### Filtro AND"
   ]
  },
  {
   "cell_type": "code",
   "execution_count": 33,
   "id": "fe38b69a",
   "metadata": {},
   "outputs": [
    {
     "name": "stdout",
     "output_type": "stream",
     "text": [
      "{'saldo': 2050, 'Nombres': 'Elsa', 'anio_nac': 1999, 'genero': 'F', 'apellidos': 'Romero'}\n",
      "{'saldo': 2050, 'Nombres': 'Elsa', 'anio_nac': 1999, 'genero': 'F', 'apellidos': 'Romero'}\n"
     ]
    }
   ],
   "source": [
    "doc_ref = db.collection(\"clientes\")\n",
    "docs =doc_ref.where(filter=FieldFilter(\"anio_nac\", \"==\", 1999)).where(filter=FieldFilter(\"Nombres\", \"==\", \"Elsa\")).stream()\n",
    "\n",
    "for doc in docs:\n",
    "    print(doc.to_dict())"
   ]
  },
  {
   "cell_type": "markdown",
   "id": "8d40614f",
   "metadata": {},
   "source": [
    "### Filtro OR"
   ]
  },
  {
   "cell_type": "code",
   "execution_count": 10,
   "id": "94916e86",
   "metadata": {},
   "outputs": [
    {
     "name": "stdout",
     "output_type": "stream",
     "text": [
      "{'saldo': 2050, 'Nombres': 'Elsa', 'anio_nac': 1999, 'genero': 'F', 'apellidos': 'Romero'}\n",
      "{'saldo': 2000, 'Nombres': 'Soledad', 'anio_nac': 1999, 'genero': 'F', 'apellidos': 'Gonzales'}\n",
      "{'saldo': 2000, 'Nombres': 'Felix', 'anio_nac': 1980, 'genero': 'M', 'apellidos': 'Trebejo'}\n",
      "{'saldo': 2050, 'Nombres': 'Elsa', 'anio_nac': 1999, 'genero': 'F', 'apellidos': 'Romero'}\n",
      "{'saldo': 2000, 'Nombres': 'Soledad', 'anio_nac': 1999, 'genero': 'F', 'apellidos': 'Gonzales'}\n",
      "{'saldo': 2000, 'Nombres': 'Felix', 'anio_nac': 1980, 'genero': 'M', 'apellidos': 'Trebejo'}\n"
     ]
    }
   ],
   "source": [
    "doc_ref = db.collection(\"clientes\")\n",
    "\n",
    "### crear los filtros\n",
    "filter_1 = FieldFilter(\"anio_nac\", \"==\", 1999)\n",
    "filter_2 = FieldFilter(\"anio_nac\", \"==\", 1980)\n",
    "\n",
    "# Crear una varible para unir los filtros\n",
    "or_filter = Or(filters=[filter_1, filter_2])\n",
    "\n",
    "docs =doc_ref.where(filter=or_filter).stream()\n",
    "\n",
    "for doc in docs:\n",
    "    print(doc.to_dict())"
   ]
  },
  {
   "cell_type": "markdown",
   "id": "4249ec63",
   "metadata": {},
   "source": [
    "### Filtro in"
   ]
  },
  {
   "cell_type": "code",
   "execution_count": 11,
   "id": "9ec115d7",
   "metadata": {},
   "outputs": [
    {
     "name": "stdout",
     "output_type": "stream",
     "text": [
      "{'saldo': 2050, 'Nombres': 'Elsa', 'anio_nac': 1999, 'genero': 'F', 'apellidos': 'Romero'}\n",
      "{'saldo': 2000, 'Nombres': 'Felix', 'anio_nac': 1980, 'genero': 'M', 'apellidos': 'Trebejo'}\n",
      "{'saldo': 2050, 'Nombres': 'Elsa', 'anio_nac': 1999, 'genero': 'F', 'apellidos': 'Romero'}\n",
      "{'saldo': 2000, 'Nombres': 'Felix', 'anio_nac': 1980, 'genero': 'M', 'apellidos': 'Trebejo'}\n"
     ]
    }
   ],
   "source": [
    "doc_ref = db.collection(\"clientes\")\n",
    "\n",
    "docs = doc_ref.where(filter=FieldFilter(\"Nombres\", \"in\", [\"Felix\", \"Elsa\"])).stream()\n",
    "for doc in docs:\n",
    "    print(doc.to_dict())\n"
   ]
  },
  {
   "cell_type": "markdown",
   "id": "5469c083",
   "metadata": {},
   "source": [
    "### Contar registros"
   ]
  },
  {
   "cell_type": "code",
   "execution_count": 17,
   "id": "21485068",
   "metadata": {},
   "outputs": [
    {
     "name": "stdout",
     "output_type": "stream",
     "text": [
      "cantidad : \n",
      "6\n"
     ]
    }
   ],
   "source": [
    "collection_ref = db.collection(\"clientes\")\n",
    "query = collection_ref.where(filter=FieldFilter(\"anio_nac\", \">\", 1800))\n",
    "aggregate_query = aggregation.AggregationQuery(query)\n",
    "\n",
    "# `alias` de la columna que va a contar los datos\n",
    "aggregate_query.count(alias=\"cantidad\")\n",
    "\n",
    "results = aggregate_query.get()\n",
    "for result in results:\n",
    "    print( result[0].alias, \": \")\n",
    "    print( result[0].value)\n"
   ]
  },
  {
   "cell_type": "markdown",
   "id": "9b43da5a",
   "metadata": {},
   "source": [
    "### agrupaciones"
   ]
  },
  {
   "cell_type": "code",
   "execution_count": 14,
   "id": "8b4c1ee2",
   "metadata": {},
   "outputs": [],
   "source": [
    "## No existe en Firestore\n"
   ]
  },
  {
   "cell_type": "markdown",
   "id": "a5d7979f",
   "metadata": {},
   "source": [
    "### Colecciones anidados"
   ]
  },
  {
   "cell_type": "code",
   "execution_count": 17,
   "id": "8dcc4a23",
   "metadata": {},
   "outputs": [
    {
     "data": {
      "text/plain": [
       "(DatetimeWithNanoseconds(2024, 4, 19, 22, 8, 55, 697535, tzinfo=datetime.timezone.utc),\n",
       " <google.cloud.firestore_v1.document.DocumentReference at 0x25b6113aa20>)"
      ]
     },
     "execution_count": 17,
     "metadata": {},
     "output_type": "execute_result"
    }
   ],
   "source": [
    "\n",
    "# Obtener una referencia a la colección de transacciones\n",
    "coleccion_transacciones = db.collection('transacciones')\n",
    "\n",
    "# Crear un diccionario que represente la transacción de venta\n",
    "transaccion_venta = {\n",
    "    'id': '123',\n",
    "    'fecha': '2024-04-20',\n",
    "    'cliente': 'Nombre del Cliente',\n",
    "    'productos': [\n",
    "        {\n",
    "            'nombre': 'Producto 1',\n",
    "            'precio': 10,\n",
    "            'cantidad': 2\n",
    "        },\n",
    "        {\n",
    "            'nombre': 'Producto 2',\n",
    "            'precio': 15,\n",
    "            'cantidad': 1\n",
    "        }\n",
    "    ]\n",
    "}\n",
    "\n",
    "# Agregar la transacción de venta a Firestore\n",
    "coleccion_transacciones.add(transaccion_venta)\n"
   ]
  },
  {
   "cell_type": "code",
   "execution_count": 18,
   "id": "ef3edb2b",
   "metadata": {},
   "outputs": [
    {
     "data": {
      "text/plain": [
       "(DatetimeWithNanoseconds(2024, 4, 19, 22, 11, 50, 822021, tzinfo=datetime.timezone.utc),\n",
       " <google.cloud.firestore_v1.document.DocumentReference at 0x25b6113a480>)"
      ]
     },
     "execution_count": 18,
     "metadata": {},
     "output_type": "execute_result"
    }
   ],
   "source": [
    "# Obtener una referencia a la colección de transacciones\n",
    "coleccion_transacciones = db.collection('transacciones')\n",
    "\n",
    "# Crear un diccionario que represente la transacción de venta\n",
    "transaccion_venta = {\n",
    "    'id': '124',\n",
    "    'fecha': '2024-04-20',\n",
    "    'cliente': 'Juan Perez',\n",
    "    'productos': [\n",
    "        {\n",
    "            'nombre': 'zapato',\n",
    "            'precio': 10,\n",
    "            'cantidad': 2\n",
    "        },\n",
    "        {\n",
    "            'nombre': 'arroz',\n",
    "            'precio': 15,\n",
    "            'cantidad': 1\n",
    "        }\n",
    "    ]\n",
    "}\n",
    "\n",
    "# Agregar la transacción de venta a Firestore\n",
    "coleccion_transacciones.add(transaccion_venta)"
   ]
  },
  {
   "cell_type": "markdown",
   "id": "375b60f8",
   "metadata": {},
   "source": [
    "### Obtener colecciones anidadas"
   ]
  },
  {
   "cell_type": "code",
   "execution_count": 23,
   "id": "c21c43df",
   "metadata": {},
   "outputs": [
    {
     "name": "stdout",
     "output_type": "stream",
     "text": [
      "[\n",
      "  {\n",
      "    \"productos\": [\n",
      "      {\n",
      "        \"precio\": 10,\n",
      "        \"cantidad\": 2,\n",
      "        \"nombre\": \"zapato\"\n",
      "      },\n",
      "      {\n",
      "        \"precio\": 15,\n",
      "        \"cantidad\": 1,\n",
      "        \"nombre\": \"arroz\"\n",
      "      }\n",
      "    ],\n",
      "    \"cliente\": \"Juan Perez\",\n",
      "    \"fecha\": \"2024-04-20\",\n",
      "    \"id\": \"124\"\n",
      "  },\n",
      "  {\n",
      "    \"productos\": [\n",
      "      {\n",
      "        \"precio\": 10,\n",
      "        \"cantidad\": 2,\n",
      "        \"nombre\": \"Producto 1\"\n",
      "      },\n",
      "      {\n",
      "        \"precio\": 15,\n",
      "        \"cantidad\": 1,\n",
      "        \"nombre\": \"Producto 2\"\n",
      "      }\n",
      "    ],\n",
      "    \"cliente\": \"Nombre del Cliente\",\n",
      "    \"fecha\": \"2024-04-20\",\n",
      "    \"id\": \"123\"\n",
      "  }\n",
      "]\n"
     ]
    }
   ],
   "source": [
    "import json\n",
    "# Obtener una referencia a la colección de transacciones\n",
    "\n",
    "coleccion_transacciones = db.collection('transacciones')\n",
    "\n",
    "# Recuperar todas las transacciones de venta\n",
    "query = coleccion_transacciones.get()\n",
    "\n",
    "# Inicializar una lista para almacenar los datos en formato JSON\n",
    "transacciones_json = []\n",
    "\n",
    "# Iterar sobre las transacciones recuperadas\n",
    "for transaccion in query:\n",
    "    datos_transaccion = transaccion.to_dict()\n",
    "    transacciones_json.append(datos_transaccion)\n",
    "\n",
    "# Serializar la lista de transacciones a JSON\n",
    "transacciones_json_string = json.dumps(transacciones_json, indent=2) ##el ident es para ponerlo en formato legible\n",
    "\n",
    "# Imprimir el JSON resultante\n",
    "print(transacciones_json_string)\n"
   ]
  },
  {
   "cell_type": "markdown",
   "id": "229bab06",
   "metadata": {},
   "source": [
    "### cargarlo a Cloud Storage"
   ]
  },
  {
   "cell_type": "code",
   "execution_count": 26,
   "id": "406fb9c3",
   "metadata": {},
   "outputs": [
    {
     "name": "stdout",
     "output_type": "stream",
     "text": [
      "Archivo subido a Cloud Storage: https://storage.googleapis.com/test-nh/firestore/transacciones.json\n"
     ]
    }
   ],
   "source": [
    "import google.cloud.storage as storage\n",
    "\n",
    "\n",
    "coleccion_transacciones = db.collection('transacciones')\n",
    "\n",
    "# Recuperar todas las transacciones de venta\n",
    "query = coleccion_transacciones.get()\n",
    "\n",
    "# Inicializar una lista de diccionarios para almacenar los datos de las transacciones\n",
    "datos_transacciones = []\n",
    "\n",
    "# Iterar sobre las transacciones recuperadas y agregar a la lista de datos\n",
    "for transaccion in query:\n",
    "    datos_transaccion = transaccion.to_dict()\n",
    "    datos_transacciones.append(datos_transaccion)\n",
    "\n",
    "# Especificar el nombre del archivo JSON en Cloud Storage\n",
    "nombre_archivo_cloud_storage = 'transacciones.json'\n",
    "\n",
    "# Serializar los datos de las transacciones a formato JSON\n",
    "datos_transacciones_json = json.dumps(datos_transacciones, indent=2)\n",
    "\n",
    "# Crear un archivo temporal en el sistema de archivos local y escribir el JSON\n",
    "with open(nombre_archivo_cloud_storage, 'w') as f:\n",
    "    f.write(datos_transacciones_json)\n",
    "\n",
    "client = storage.Client()\n",
    "# Subir el archivo JSON a Cloud Storage\n",
    "bucket = client.bucket('test-nh')\n",
    "blob = bucket.blob('firestore/'+nombre_archivo_cloud_storage)\n",
    "blob.upload_from_filename(nombre_archivo_cloud_storage)\n",
    "\n",
    "# Imprimir la URL del archivo subido\n",
    "print(\"Archivo subido a Cloud Storage:\", blob.public_url)\n"
   ]
  },
  {
   "cell_type": "markdown",
   "id": "4e49e905",
   "metadata": {},
   "source": [
    "### Subir un archivo a Firestore"
   ]
  },
  {
   "cell_type": "code",
   "execution_count": 32,
   "id": "1eea4d74",
   "metadata": {},
   "outputs": [
    {
     "name": "stdout",
     "output_type": "stream",
     "text": [
      "Archivo JSON subido a Firestore exitosamente.\n"
     ]
    }
   ],
   "source": [
    "\n",
    "import json\n",
    "import google.cloud.storage as storage\n",
    "\n",
    "coleccion = db.collection('transacciones2')\n",
    "\n",
    "\n",
    "\n",
    "client = storage.Client()\n",
    "bucket = client.bucket('test-nh')\n",
    "\n",
    "# Nombre del archivo JSON en Cloud Storage\n",
    "nombre_archivo_cloud_storage = 'firestore/transacciones.json'\n",
    "\n",
    "# Obtener una referencia al archivo JSON en Cloud Storage\n",
    "blob = bucket.blob(nombre_archivo_cloud_storage)\n",
    "\n",
    "# Descargar el contenido del archivo JSON\n",
    "contenido_json = blob.download_as_string().decode('utf-8')\n",
    "\n",
    "# Convertir el contenido del archivo JSON a un diccionario de Python\n",
    "datos_json = json.loads(contenido_json)\n",
    "\n",
    "datos_convertidos = {f\"item_{i}\": item for i, item in enumerate(datos_json)}\n",
    "\n",
    "# Agregar el diccionario de datos como un documento en Firestore\n",
    "coleccion.add(datos_convertidos)\n",
    "\n",
    "print(\"Archivo JSON subido a Firestore exitosamente.\")\n"
   ]
  },
  {
   "cell_type": "code",
   "execution_count": 22,
   "id": "a3748a9d",
   "metadata": {},
   "outputs": [
    {
     "data": {
      "text/html": [
       "<div>\n",
       "<style scoped>\n",
       "    .dataframe tbody tr th:only-of-type {\n",
       "        vertical-align: middle;\n",
       "    }\n",
       "\n",
       "    .dataframe tbody tr th {\n",
       "        vertical-align: top;\n",
       "    }\n",
       "\n",
       "    .dataframe thead th {\n",
       "        text-align: right;\n",
       "    }\n",
       "</style>\n",
       "<table border=\"1\" class=\"dataframe\">\n",
       "  <thead>\n",
       "    <tr style=\"text-align: right;\">\n",
       "      <th></th>\n",
       "      <th>saldo</th>\n",
       "      <th>Nombres</th>\n",
       "      <th>anio_nac</th>\n",
       "      <th>genero</th>\n",
       "      <th>apellidos</th>\n",
       "    </tr>\n",
       "  </thead>\n",
       "  <tbody>\n",
       "    <tr>\n",
       "      <th>0</th>\n",
       "      <td>2050</td>\n",
       "      <td>Elsa</td>\n",
       "      <td>1999.0</td>\n",
       "      <td>F</td>\n",
       "      <td>Romero</td>\n",
       "    </tr>\n",
       "    <tr>\n",
       "      <th>1</th>\n",
       "      <td>2000</td>\n",
       "      <td>Juan</td>\n",
       "      <td>NaN</td>\n",
       "      <td>M</td>\n",
       "      <td>Arteaga</td>\n",
       "    </tr>\n",
       "    <tr>\n",
       "      <th>2</th>\n",
       "      <td>2300</td>\n",
       "      <td>Carlos</td>\n",
       "      <td>NaN</td>\n",
       "      <td>M</td>\n",
       "      <td>Perez</td>\n",
       "    </tr>\n",
       "    <tr>\n",
       "      <th>3</th>\n",
       "      <td>3200</td>\n",
       "      <td>Rosa</td>\n",
       "      <td>NaN</td>\n",
       "      <td>F</td>\n",
       "      <td>Flores</td>\n",
       "    </tr>\n",
       "    <tr>\n",
       "      <th>4</th>\n",
       "      <td>2000</td>\n",
       "      <td>Soledad</td>\n",
       "      <td>1999.0</td>\n",
       "      <td>F</td>\n",
       "      <td>Gonzales</td>\n",
       "    </tr>\n",
       "  </tbody>\n",
       "</table>\n",
       "</div>"
      ],
      "text/plain": [
       "   saldo  Nombres  anio_nac genero apellidos\n",
       "0   2050     Elsa    1999.0      F    Romero\n",
       "1   2000     Juan       NaN      M   Arteaga\n",
       "2   2300   Carlos       NaN      M     Perez\n",
       "3   3200     Rosa       NaN      F    Flores\n",
       "4   2000  Soledad    1999.0      F  Gonzales"
      ]
     },
     "execution_count": 22,
     "metadata": {},
     "output_type": "execute_result"
    }
   ],
   "source": [
    "doc_ref = db.collection(\"clientes\")\n",
    "docs =doc_ref.stream()\n",
    "ldocs = list(map(lambda x: x.to_dict(), docs))\n",
    "\n",
    "\n",
    "df=pd.DataFrame((ldocs))\n",
    "df.head()"
   ]
  },
  {
   "cell_type": "code",
   "execution_count": 31,
   "id": "33561cf3",
   "metadata": {},
   "outputs": [
    {
     "data": {
      "text/html": [
       "<div>\n",
       "<style scoped>\n",
       "    .dataframe tbody tr th:only-of-type {\n",
       "        vertical-align: middle;\n",
       "    }\n",
       "\n",
       "    .dataframe tbody tr th {\n",
       "        vertical-align: top;\n",
       "    }\n",
       "\n",
       "    .dataframe thead th {\n",
       "        text-align: right;\n",
       "    }\n",
       "</style>\n",
       "<table border=\"1\" class=\"dataframe\">\n",
       "  <thead>\n",
       "    <tr style=\"text-align: right;\">\n",
       "      <th></th>\n",
       "      <th>saldo</th>\n",
       "      <th>Nombres</th>\n",
       "      <th>anio_nac</th>\n",
       "      <th>genero</th>\n",
       "      <th>apellidos</th>\n",
       "    </tr>\n",
       "  </thead>\n",
       "  <tbody>\n",
       "    <tr>\n",
       "      <th>0</th>\n",
       "      <td>2050</td>\n",
       "      <td>Elsa</td>\n",
       "      <td>1999.0</td>\n",
       "      <td>F</td>\n",
       "      <td>Romero</td>\n",
       "    </tr>\n",
       "    <tr>\n",
       "      <th>1</th>\n",
       "      <td>2000</td>\n",
       "      <td>Juan</td>\n",
       "      <td>NaN</td>\n",
       "      <td>M</td>\n",
       "      <td>Arteaga</td>\n",
       "    </tr>\n",
       "    <tr>\n",
       "      <th>2</th>\n",
       "      <td>2300</td>\n",
       "      <td>Carlos</td>\n",
       "      <td>NaN</td>\n",
       "      <td>M</td>\n",
       "      <td>Perez</td>\n",
       "    </tr>\n",
       "    <tr>\n",
       "      <th>3</th>\n",
       "      <td>3200</td>\n",
       "      <td>Rosa</td>\n",
       "      <td>NaN</td>\n",
       "      <td>F</td>\n",
       "      <td>Flores</td>\n",
       "    </tr>\n",
       "    <tr>\n",
       "      <th>4</th>\n",
       "      <td>2000</td>\n",
       "      <td>Soledad</td>\n",
       "      <td>1999.0</td>\n",
       "      <td>F</td>\n",
       "      <td>Gonzales</td>\n",
       "    </tr>\n",
       "  </tbody>\n",
       "</table>\n",
       "</div>"
      ],
      "text/plain": [
       "   saldo  Nombres  anio_nac genero apellidos\n",
       "0   2050     Elsa    1999.0      F    Romero\n",
       "1   2000     Juan       NaN      M   Arteaga\n",
       "2   2300   Carlos       NaN      M     Perez\n",
       "3   3200     Rosa       NaN      F    Flores\n",
       "4   2000  Soledad    1999.0      F  Gonzales"
      ]
     },
     "execution_count": 31,
     "metadata": {},
     "output_type": "execute_result"
    }
   ],
   "source": [
    "docs=db.collection(\"clientes\").list_documents()\n",
    "lista_diccionarios = [doc.get().to_dict() for doc in docs]\n",
    "df=pd.DataFrame(list(lista_diccionarios))\n",
    "df.head()\n"
   ]
  }
 ],
 "metadata": {
  "kernelspec": {
   "display_name": "Python 3 (ipykernel)",
   "language": "python",
   "name": "python3"
  },
  "language_info": {
   "codemirror_mode": {
    "name": "ipython",
    "version": 3
   },
   "file_extension": ".py",
   "mimetype": "text/x-python",
   "name": "python",
   "nbconvert_exporter": "python",
   "pygments_lexer": "ipython3",
   "version": "3.12.2"
  }
 },
 "nbformat": 4,
 "nbformat_minor": 5
}
